{
  "nbformat": 4,
  "nbformat_minor": 0,
  "metadata": {
    "colab": {
      "name": "Stock_Closing_Price_Prediction.ipynb",
      "provenance": [],
      "collapsed_sections": [
        "LEIzTCh8jL5T",
        "xGjkvRLAIoTs",
        "tiSsKQDvRrcs",
        "X-xMK9r7Xo5Q",
        "XUPDmS7NwCPE",
        "KNd0fl4QoHHi",
        "o77ILWwL0J41",
        "tETRLjRQ1uoW",
        "y2LHSaJ5Pcxl",
        "m1S3o6utQhKk"
      ],
      "authorship_tag": "ABX9TyMujGO4EkwY4Lld6XBdNeaH",
      "include_colab_link": true
    },
    "kernelspec": {
      "name": "python3",
      "display_name": "Python 3"
    },
    "language_info": {
      "name": "python"
    }
  },
  "cells": [
    {
      "cell_type": "markdown",
      "metadata": {
        "id": "view-in-github",
        "colab_type": "text"
      },
      "source": [
        "<a href=\"https://colab.research.google.com/github/Rahman88talha/Capstone_Project_Stock_Closing_Price_Prediction/blob/main/Stock_Closing_Price_Prediction.ipynb\" target=\"_parent\"><img src=\"https://colab.research.google.com/assets/colab-badge.svg\" alt=\"Open In Colab\"/></a>"
      ]
    },
    {
      "cell_type": "markdown",
      "metadata": {
        "id": "qogU9Ri8h5zs"
      },
      "source": [
        "# Yes Bank is a well-known bank in the Indian financial domain. Since 2018, it has been in the news because of the fraud case involving Rana Kapoor. Owing to this fact, it was interesting to see how that impacted the stock prices of the company and whether Time series models or any other predictive models can do justice to such situations. This dataset has monthly stock prices of the bank since its inception and includes closing, starting, highest, and lowest stock prices of every month. The main objective is to predict the stock’s closing price of the month."
      ]
    },
    {
      "cell_type": "markdown",
      "metadata": {
        "id": "9FvQEE6JiB9L"
      },
      "source": [
        "#We have Yes Bank monthly stock price dataset. It has following feature (Column):\n",
        "### **1) Open** : Opening price of the stock of particular day\n",
        "### **2) High** : It's the highest price at which a stock traded during a period\n",
        "### **3) Low** : It's the lowest price at which stock traded during a period\n",
        "### **4) Close** : Closing price of a stock at the end of a Trading Day\n",
        "### **5) Date** : We will use it as a index"
      ]
    },
    {
      "cell_type": "markdown",
      "metadata": {
        "id": "Glo8r_REiGvT"
      },
      "source": [
        "# **Loading the Data**"
      ]
    },
    {
      "cell_type": "code",
      "metadata": {
        "colab": {
          "base_uri": "https://localhost:8080/"
        },
        "id": "uktaLmEtiQHz",
        "outputId": "03731646-8741-474e-ce1c-713834421014"
      },
      "source": [
        "from google.colab import drive\n",
        "drive.mount(\"/content/drive\")"
      ],
      "execution_count": 1,
      "outputs": [
        {
          "output_type": "stream",
          "name": "stdout",
          "text": [
            "Mounted at /content/drive\n"
          ]
        }
      ]
    },
    {
      "cell_type": "markdown",
      "metadata": {
        "id": "VzO4-pcIiPX0"
      },
      "source": [
        "Importing libraries for EDA"
      ]
    },
    {
      "cell_type": "code",
      "metadata": {
        "id": "ZVeRuAIdij3M"
      },
      "source": [
        "import numpy as np\n",
        "import pandas as pd\n",
        "import seaborn as sns\n",
        "from numpy import math\n",
        "import pandas_profiling as pp\n",
        "import matplotlib.pyplot as plt\n",
        "%matplotlib inline\n",
        "import warnings\n",
        "warnings.filterwarnings('ignore')"
      ],
      "execution_count": 2,
      "outputs": []
    },
    {
      "cell_type": "markdown",
      "metadata": {
        "id": "0B-C0nOQin-D"
      },
      "source": [
        "# EDA"
      ]
    },
    {
      "cell_type": "markdown",
      "metadata": {
        "id": "RH0m6iJ3itaq"
      },
      "source": [
        "### **Data Preparation**"
      ]
    },
    {
      "cell_type": "code",
      "metadata": {
        "id": "cZBcoWxWinbD"
      },
      "source": [
        "df = pd.read_csv(\"/content/drive/MyDrive/Capstone Project Supervised ML Regression(Alma Better)/data_YesBank_StockPrices.csv\")"
      ],
      "execution_count": 3,
      "outputs": []
    },
    {
      "cell_type": "code",
      "metadata": {
        "colab": {
          "base_uri": "https://localhost:8080/",
          "height": 206
        },
        "id": "PWQqhIH3i1H0",
        "outputId": "c7031b16-b8aa-4b73-c301-247faf07fdba"
      },
      "source": [
        "df.head()"
      ],
      "execution_count": 4,
      "outputs": [
        {
          "output_type": "execute_result",
          "data": {
            "text/html": [
              "<div>\n",
              "<style scoped>\n",
              "    .dataframe tbody tr th:only-of-type {\n",
              "        vertical-align: middle;\n",
              "    }\n",
              "\n",
              "    .dataframe tbody tr th {\n",
              "        vertical-align: top;\n",
              "    }\n",
              "\n",
              "    .dataframe thead th {\n",
              "        text-align: right;\n",
              "    }\n",
              "</style>\n",
              "<table border=\"1\" class=\"dataframe\">\n",
              "  <thead>\n",
              "    <tr style=\"text-align: right;\">\n",
              "      <th></th>\n",
              "      <th>Date</th>\n",
              "      <th>Open</th>\n",
              "      <th>High</th>\n",
              "      <th>Low</th>\n",
              "      <th>Close</th>\n",
              "    </tr>\n",
              "  </thead>\n",
              "  <tbody>\n",
              "    <tr>\n",
              "      <th>0</th>\n",
              "      <td>Jul-05</td>\n",
              "      <td>13.00</td>\n",
              "      <td>14.00</td>\n",
              "      <td>11.25</td>\n",
              "      <td>12.46</td>\n",
              "    </tr>\n",
              "    <tr>\n",
              "      <th>1</th>\n",
              "      <td>Aug-05</td>\n",
              "      <td>12.58</td>\n",
              "      <td>14.88</td>\n",
              "      <td>12.55</td>\n",
              "      <td>13.42</td>\n",
              "    </tr>\n",
              "    <tr>\n",
              "      <th>2</th>\n",
              "      <td>Sep-05</td>\n",
              "      <td>13.48</td>\n",
              "      <td>14.87</td>\n",
              "      <td>12.27</td>\n",
              "      <td>13.30</td>\n",
              "    </tr>\n",
              "    <tr>\n",
              "      <th>3</th>\n",
              "      <td>Oct-05</td>\n",
              "      <td>13.20</td>\n",
              "      <td>14.47</td>\n",
              "      <td>12.40</td>\n",
              "      <td>12.99</td>\n",
              "    </tr>\n",
              "    <tr>\n",
              "      <th>4</th>\n",
              "      <td>Nov-05</td>\n",
              "      <td>13.35</td>\n",
              "      <td>13.88</td>\n",
              "      <td>12.88</td>\n",
              "      <td>13.41</td>\n",
              "    </tr>\n",
              "  </tbody>\n",
              "</table>\n",
              "</div>"
            ],
            "text/plain": [
              "     Date   Open   High    Low  Close\n",
              "0  Jul-05  13.00  14.00  11.25  12.46\n",
              "1  Aug-05  12.58  14.88  12.55  13.42\n",
              "2  Sep-05  13.48  14.87  12.27  13.30\n",
              "3  Oct-05  13.20  14.47  12.40  12.99\n",
              "4  Nov-05  13.35  13.88  12.88  13.41"
            ]
          },
          "metadata": {},
          "execution_count": 4
        }
      ]
    },
    {
      "cell_type": "code",
      "metadata": {
        "colab": {
          "base_uri": "https://localhost:8080/",
          "height": 206
        },
        "id": "m4AkBCNni5S0",
        "outputId": "abfcc482-bde2-4679-da38-3aa68bee183c"
      },
      "source": [
        "df.tail()"
      ],
      "execution_count": 5,
      "outputs": [
        {
          "output_type": "execute_result",
          "data": {
            "text/html": [
              "<div>\n",
              "<style scoped>\n",
              "    .dataframe tbody tr th:only-of-type {\n",
              "        vertical-align: middle;\n",
              "    }\n",
              "\n",
              "    .dataframe tbody tr th {\n",
              "        vertical-align: top;\n",
              "    }\n",
              "\n",
              "    .dataframe thead th {\n",
              "        text-align: right;\n",
              "    }\n",
              "</style>\n",
              "<table border=\"1\" class=\"dataframe\">\n",
              "  <thead>\n",
              "    <tr style=\"text-align: right;\">\n",
              "      <th></th>\n",
              "      <th>Date</th>\n",
              "      <th>Open</th>\n",
              "      <th>High</th>\n",
              "      <th>Low</th>\n",
              "      <th>Close</th>\n",
              "    </tr>\n",
              "  </thead>\n",
              "  <tbody>\n",
              "    <tr>\n",
              "      <th>180</th>\n",
              "      <td>Jul-20</td>\n",
              "      <td>25.60</td>\n",
              "      <td>28.30</td>\n",
              "      <td>11.10</td>\n",
              "      <td>11.95</td>\n",
              "    </tr>\n",
              "    <tr>\n",
              "      <th>181</th>\n",
              "      <td>Aug-20</td>\n",
              "      <td>12.00</td>\n",
              "      <td>17.16</td>\n",
              "      <td>11.85</td>\n",
              "      <td>14.37</td>\n",
              "    </tr>\n",
              "    <tr>\n",
              "      <th>182</th>\n",
              "      <td>Sep-20</td>\n",
              "      <td>14.30</td>\n",
              "      <td>15.34</td>\n",
              "      <td>12.75</td>\n",
              "      <td>13.15</td>\n",
              "    </tr>\n",
              "    <tr>\n",
              "      <th>183</th>\n",
              "      <td>Oct-20</td>\n",
              "      <td>13.30</td>\n",
              "      <td>14.01</td>\n",
              "      <td>12.11</td>\n",
              "      <td>12.42</td>\n",
              "    </tr>\n",
              "    <tr>\n",
              "      <th>184</th>\n",
              "      <td>Nov-20</td>\n",
              "      <td>12.41</td>\n",
              "      <td>14.90</td>\n",
              "      <td>12.21</td>\n",
              "      <td>14.67</td>\n",
              "    </tr>\n",
              "  </tbody>\n",
              "</table>\n",
              "</div>"
            ],
            "text/plain": [
              "       Date   Open   High    Low  Close\n",
              "180  Jul-20  25.60  28.30  11.10  11.95\n",
              "181  Aug-20  12.00  17.16  11.85  14.37\n",
              "182  Sep-20  14.30  15.34  12.75  13.15\n",
              "183  Oct-20  13.30  14.01  12.11  12.42\n",
              "184  Nov-20  12.41  14.90  12.21  14.67"
            ]
          },
          "metadata": {},
          "execution_count": 5
        }
      ]
    },
    {
      "cell_type": "code",
      "metadata": {
        "colab": {
          "base_uri": "https://localhost:8080/"
        },
        "id": "MQIOj566i8yy",
        "outputId": "f9a5a1b5-9abd-4933-d189-a80ededb5848"
      },
      "source": [
        "df.shape"
      ],
      "execution_count": 6,
      "outputs": [
        {
          "output_type": "execute_result",
          "data": {
            "text/plain": [
              "(185, 5)"
            ]
          },
          "metadata": {},
          "execution_count": 6
        }
      ]
    },
    {
      "cell_type": "code",
      "metadata": {
        "colab": {
          "base_uri": "https://localhost:8080/"
        },
        "id": "Rw1lS8Uqi8wQ",
        "outputId": "b3b8899f-868b-453b-b3af-aff2a19b7d61"
      },
      "source": [
        "df.columns"
      ],
      "execution_count": 7,
      "outputs": [
        {
          "output_type": "execute_result",
          "data": {
            "text/plain": [
              "Index(['Date', 'Open', 'High', 'Low', 'Close'], dtype='object')"
            ]
          },
          "metadata": {},
          "execution_count": 7
        }
      ]
    },
    {
      "cell_type": "code",
      "metadata": {
        "colab": {
          "base_uri": "https://localhost:8080/"
        },
        "id": "yJc7PfDUi8tT",
        "outputId": "aaea9ae5-068c-412f-f3aa-d598cdc0ef0a"
      },
      "source": [
        "df.info()"
      ],
      "execution_count": 8,
      "outputs": [
        {
          "output_type": "stream",
          "name": "stdout",
          "text": [
            "<class 'pandas.core.frame.DataFrame'>\n",
            "RangeIndex: 185 entries, 0 to 184\n",
            "Data columns (total 5 columns):\n",
            " #   Column  Non-Null Count  Dtype  \n",
            "---  ------  --------------  -----  \n",
            " 0   Date    185 non-null    object \n",
            " 1   Open    185 non-null    float64\n",
            " 2   High    185 non-null    float64\n",
            " 3   Low     185 non-null    float64\n",
            " 4   Close   185 non-null    float64\n",
            "dtypes: float64(4), object(1)\n",
            "memory usage: 7.4+ KB\n"
          ]
        }
      ]
    },
    {
      "cell_type": "code",
      "metadata": {
        "colab": {
          "base_uri": "https://localhost:8080/",
          "height": 300
        },
        "id": "ijYXCAPSi8qj",
        "outputId": "b84a41f2-b30c-4395-c8fa-bca9f6f3c230"
      },
      "source": [
        "df.describe()"
      ],
      "execution_count": 9,
      "outputs": [
        {
          "output_type": "execute_result",
          "data": {
            "text/html": [
              "<div>\n",
              "<style scoped>\n",
              "    .dataframe tbody tr th:only-of-type {\n",
              "        vertical-align: middle;\n",
              "    }\n",
              "\n",
              "    .dataframe tbody tr th {\n",
              "        vertical-align: top;\n",
              "    }\n",
              "\n",
              "    .dataframe thead th {\n",
              "        text-align: right;\n",
              "    }\n",
              "</style>\n",
              "<table border=\"1\" class=\"dataframe\">\n",
              "  <thead>\n",
              "    <tr style=\"text-align: right;\">\n",
              "      <th></th>\n",
              "      <th>Open</th>\n",
              "      <th>High</th>\n",
              "      <th>Low</th>\n",
              "      <th>Close</th>\n",
              "    </tr>\n",
              "  </thead>\n",
              "  <tbody>\n",
              "    <tr>\n",
              "      <th>count</th>\n",
              "      <td>185.000000</td>\n",
              "      <td>185.000000</td>\n",
              "      <td>185.000000</td>\n",
              "      <td>185.000000</td>\n",
              "    </tr>\n",
              "    <tr>\n",
              "      <th>mean</th>\n",
              "      <td>105.541405</td>\n",
              "      <td>116.104324</td>\n",
              "      <td>94.947838</td>\n",
              "      <td>105.204703</td>\n",
              "    </tr>\n",
              "    <tr>\n",
              "      <th>std</th>\n",
              "      <td>98.879850</td>\n",
              "      <td>106.333497</td>\n",
              "      <td>91.219415</td>\n",
              "      <td>98.583153</td>\n",
              "    </tr>\n",
              "    <tr>\n",
              "      <th>min</th>\n",
              "      <td>10.000000</td>\n",
              "      <td>11.240000</td>\n",
              "      <td>5.550000</td>\n",
              "      <td>9.980000</td>\n",
              "    </tr>\n",
              "    <tr>\n",
              "      <th>25%</th>\n",
              "      <td>33.800000</td>\n",
              "      <td>36.140000</td>\n",
              "      <td>28.510000</td>\n",
              "      <td>33.450000</td>\n",
              "    </tr>\n",
              "    <tr>\n",
              "      <th>50%</th>\n",
              "      <td>62.980000</td>\n",
              "      <td>72.550000</td>\n",
              "      <td>58.000000</td>\n",
              "      <td>62.540000</td>\n",
              "    </tr>\n",
              "    <tr>\n",
              "      <th>75%</th>\n",
              "      <td>153.000000</td>\n",
              "      <td>169.190000</td>\n",
              "      <td>138.350000</td>\n",
              "      <td>153.300000</td>\n",
              "    </tr>\n",
              "    <tr>\n",
              "      <th>max</th>\n",
              "      <td>369.950000</td>\n",
              "      <td>404.000000</td>\n",
              "      <td>345.500000</td>\n",
              "      <td>367.900000</td>\n",
              "    </tr>\n",
              "  </tbody>\n",
              "</table>\n",
              "</div>"
            ],
            "text/plain": [
              "             Open        High         Low       Close\n",
              "count  185.000000  185.000000  185.000000  185.000000\n",
              "mean   105.541405  116.104324   94.947838  105.204703\n",
              "std     98.879850  106.333497   91.219415   98.583153\n",
              "min     10.000000   11.240000    5.550000    9.980000\n",
              "25%     33.800000   36.140000   28.510000   33.450000\n",
              "50%     62.980000   72.550000   58.000000   62.540000\n",
              "75%    153.000000  169.190000  138.350000  153.300000\n",
              "max    369.950000  404.000000  345.500000  367.900000"
            ]
          },
          "metadata": {},
          "execution_count": 9
        }
      ]
    },
    {
      "cell_type": "markdown",
      "metadata": {
        "id": "LEIzTCh8jL5T"
      },
      "source": [
        "### Checking for Null & duplicate values"
      ]
    },
    {
      "cell_type": "code",
      "metadata": {
        "colab": {
          "base_uri": "https://localhost:8080/"
        },
        "id": "DLm0gSvDi8hb",
        "outputId": "5744f43c-3559-4843-c6f3-dafd5885ba4a"
      },
      "source": [
        "df.isnull().sum()"
      ],
      "execution_count": 10,
      "outputs": [
        {
          "output_type": "execute_result",
          "data": {
            "text/plain": [
              "Date     0\n",
              "Open     0\n",
              "High     0\n",
              "Low      0\n",
              "Close    0\n",
              "dtype: int64"
            ]
          },
          "metadata": {},
          "execution_count": 10
        }
      ]
    },
    {
      "cell_type": "code",
      "metadata": {
        "colab": {
          "base_uri": "https://localhost:8080/"
        },
        "id": "A7rJ-NWFjTDD",
        "outputId": "74c9cbde-b8f3-4415-b5a5-6f3f1b17aa4c"
      },
      "source": [
        "dup=df.duplicated()\n",
        "print(dup.value_counts())"
      ],
      "execution_count": 11,
      "outputs": [
        {
          "output_type": "stream",
          "name": "stdout",
          "text": [
            "False    185\n",
            "dtype: int64\n"
          ]
        }
      ]
    },
    {
      "cell_type": "markdown",
      "metadata": {
        "id": "4CuihkYVjXOi"
      },
      "source": [
        "There are no duplicate and null values in this dataset"
      ]
    },
    {
      "cell_type": "markdown",
      "metadata": {
        "id": "4TEmCZ8CjXCq"
      },
      "source": [
        "**Note!** The \"Date\" Column in this dataset needs to be converted to date time object. The current MM-YY format will be converted to proper format of date i,e YYYY-MM-DD "
      ]
    },
    {
      "cell_type": "code",
      "metadata": {
        "id": "NMBzG9YZjbiz"
      },
      "source": [
        "from datetime import datetime\n",
        "df['Date'] = df['Date'].apply(lambda x: datetime.strptime(x, \"%b-%y\"))"
      ],
      "execution_count": 12,
      "outputs": []
    },
    {
      "cell_type": "markdown",
      "metadata": {
        "id": "sNyHmPaGBfgk"
      },
      "source": [
        "Now the Date format has changed"
      ]
    },
    {
      "cell_type": "code",
      "metadata": {
        "colab": {
          "base_uri": "https://localhost:8080/",
          "height": 0
        },
        "id": "HJKWlno1j5jM",
        "outputId": "da282bfb-81af-432e-cb58-556dd09af6bb"
      },
      "source": [
        "df"
      ],
      "execution_count": 13,
      "outputs": [
        {
          "output_type": "execute_result",
          "data": {
            "text/html": [
              "<div>\n",
              "<style scoped>\n",
              "    .dataframe tbody tr th:only-of-type {\n",
              "        vertical-align: middle;\n",
              "    }\n",
              "\n",
              "    .dataframe tbody tr th {\n",
              "        vertical-align: top;\n",
              "    }\n",
              "\n",
              "    .dataframe thead th {\n",
              "        text-align: right;\n",
              "    }\n",
              "</style>\n",
              "<table border=\"1\" class=\"dataframe\">\n",
              "  <thead>\n",
              "    <tr style=\"text-align: right;\">\n",
              "      <th></th>\n",
              "      <th>Date</th>\n",
              "      <th>Open</th>\n",
              "      <th>High</th>\n",
              "      <th>Low</th>\n",
              "      <th>Close</th>\n",
              "    </tr>\n",
              "  </thead>\n",
              "  <tbody>\n",
              "    <tr>\n",
              "      <th>0</th>\n",
              "      <td>2005-07-01</td>\n",
              "      <td>13.00</td>\n",
              "      <td>14.00</td>\n",
              "      <td>11.25</td>\n",
              "      <td>12.46</td>\n",
              "    </tr>\n",
              "    <tr>\n",
              "      <th>1</th>\n",
              "      <td>2005-08-01</td>\n",
              "      <td>12.58</td>\n",
              "      <td>14.88</td>\n",
              "      <td>12.55</td>\n",
              "      <td>13.42</td>\n",
              "    </tr>\n",
              "    <tr>\n",
              "      <th>2</th>\n",
              "      <td>2005-09-01</td>\n",
              "      <td>13.48</td>\n",
              "      <td>14.87</td>\n",
              "      <td>12.27</td>\n",
              "      <td>13.30</td>\n",
              "    </tr>\n",
              "    <tr>\n",
              "      <th>3</th>\n",
              "      <td>2005-10-01</td>\n",
              "      <td>13.20</td>\n",
              "      <td>14.47</td>\n",
              "      <td>12.40</td>\n",
              "      <td>12.99</td>\n",
              "    </tr>\n",
              "    <tr>\n",
              "      <th>4</th>\n",
              "      <td>2005-11-01</td>\n",
              "      <td>13.35</td>\n",
              "      <td>13.88</td>\n",
              "      <td>12.88</td>\n",
              "      <td>13.41</td>\n",
              "    </tr>\n",
              "    <tr>\n",
              "      <th>...</th>\n",
              "      <td>...</td>\n",
              "      <td>...</td>\n",
              "      <td>...</td>\n",
              "      <td>...</td>\n",
              "      <td>...</td>\n",
              "    </tr>\n",
              "    <tr>\n",
              "      <th>180</th>\n",
              "      <td>2020-07-01</td>\n",
              "      <td>25.60</td>\n",
              "      <td>28.30</td>\n",
              "      <td>11.10</td>\n",
              "      <td>11.95</td>\n",
              "    </tr>\n",
              "    <tr>\n",
              "      <th>181</th>\n",
              "      <td>2020-08-01</td>\n",
              "      <td>12.00</td>\n",
              "      <td>17.16</td>\n",
              "      <td>11.85</td>\n",
              "      <td>14.37</td>\n",
              "    </tr>\n",
              "    <tr>\n",
              "      <th>182</th>\n",
              "      <td>2020-09-01</td>\n",
              "      <td>14.30</td>\n",
              "      <td>15.34</td>\n",
              "      <td>12.75</td>\n",
              "      <td>13.15</td>\n",
              "    </tr>\n",
              "    <tr>\n",
              "      <th>183</th>\n",
              "      <td>2020-10-01</td>\n",
              "      <td>13.30</td>\n",
              "      <td>14.01</td>\n",
              "      <td>12.11</td>\n",
              "      <td>12.42</td>\n",
              "    </tr>\n",
              "    <tr>\n",
              "      <th>184</th>\n",
              "      <td>2020-11-01</td>\n",
              "      <td>12.41</td>\n",
              "      <td>14.90</td>\n",
              "      <td>12.21</td>\n",
              "      <td>14.67</td>\n",
              "    </tr>\n",
              "  </tbody>\n",
              "</table>\n",
              "<p>185 rows × 5 columns</p>\n",
              "</div>"
            ],
            "text/plain": [
              "          Date   Open   High    Low  Close\n",
              "0   2005-07-01  13.00  14.00  11.25  12.46\n",
              "1   2005-08-01  12.58  14.88  12.55  13.42\n",
              "2   2005-09-01  13.48  14.87  12.27  13.30\n",
              "3   2005-10-01  13.20  14.47  12.40  12.99\n",
              "4   2005-11-01  13.35  13.88  12.88  13.41\n",
              "..         ...    ...    ...    ...    ...\n",
              "180 2020-07-01  25.60  28.30  11.10  11.95\n",
              "181 2020-08-01  12.00  17.16  11.85  14.37\n",
              "182 2020-09-01  14.30  15.34  12.75  13.15\n",
              "183 2020-10-01  13.30  14.01  12.11  12.42\n",
              "184 2020-11-01  12.41  14.90  12.21  14.67\n",
              "\n",
              "[185 rows x 5 columns]"
            ]
          },
          "metadata": {},
          "execution_count": 13
        }
      ]
    },
    {
      "cell_type": "code",
      "metadata": {
        "colab": {
          "base_uri": "https://localhost:8080/"
        },
        "id": "dnUk6bChj9zT",
        "outputId": "e7deb4f1-e31f-45ef-af13-fa22b7061a45"
      },
      "source": [
        "df.info()"
      ],
      "execution_count": 14,
      "outputs": [
        {
          "output_type": "stream",
          "name": "stdout",
          "text": [
            "<class 'pandas.core.frame.DataFrame'>\n",
            "RangeIndex: 185 entries, 0 to 184\n",
            "Data columns (total 5 columns):\n",
            " #   Column  Non-Null Count  Dtype         \n",
            "---  ------  --------------  -----         \n",
            " 0   Date    185 non-null    datetime64[ns]\n",
            " 1   Open    185 non-null    float64       \n",
            " 2   High    185 non-null    float64       \n",
            " 3   Low     185 non-null    float64       \n",
            " 4   Close   185 non-null    float64       \n",
            "dtypes: datetime64[ns](1), float64(4)\n",
            "memory usage: 7.4 KB\n"
          ]
        }
      ]
    },
    {
      "cell_type": "markdown",
      "metadata": {
        "id": "3JfYLO3KkI9S"
      },
      "source": [
        "# Data Visualization"
      ]
    },
    {
      "cell_type": "markdown",
      "metadata": {
        "id": "5zw3ozaTB3uN"
      },
      "source": [
        "Visualization will be divided into two part:\n",
        "1) Univariate Analysis\n",
        "2) Bi-variate Analysis\n"
      ]
    },
    {
      "cell_type": "markdown",
      "metadata": {
        "id": "WxUTYNGOCLXa"
      },
      "source": [
        "First Thing First! Bifurcating Dependent and Independent Features\n",
        "\n",
        "We will consider \"High\", \"Low\", \"Open\" as independent features and \"Close\" as dependent.\n",
        "So,"
      ]
    },
    {
      "cell_type": "markdown",
      "metadata": {
        "id": "P12Ul0DrukAM"
      },
      "source": [
        "Using Copy of Dataset for Better Clarity"
      ]
    },
    {
      "cell_type": "code",
      "metadata": {
        "id": "mHKeT0rsDMSl"
      },
      "source": [
        "df1 = df.copy()            # For calculation purpose, So that our original data is preserved"
      ],
      "execution_count": 15,
      "outputs": []
    },
    {
      "cell_type": "code",
      "metadata": {
        "id": "YZakdeYLC8vc"
      },
      "source": [
        "ind_var = df1[['High','Low','Open']]\n",
        "dep_var = df1['Close']"
      ],
      "execution_count": 16,
      "outputs": []
    },
    {
      "cell_type": "markdown",
      "metadata": {
        "id": "xGjkvRLAIoTs"
      },
      "source": [
        "## **Univariate Analysis**"
      ]
    },
    {
      "cell_type": "markdown",
      "metadata": {
        "id": "UAytrA9ZD6zT"
      },
      "source": [
        "Now, Let's see Graphs of Dependent and Independent variables\n",
        "\n",
        "**Independent:**"
      ]
    },
    {
      "cell_type": "code",
      "metadata": {
        "colab": {
          "base_uri": "https://localhost:8080/",
          "height": 0
        },
        "id": "KmB0hHMVEJsU",
        "outputId": "606fc77d-998e-49a3-e3cd-73d0d552de34"
      },
      "source": [
        "for var in ind_var:\n",
        "    plt.figure(figsize=(15,6))\n",
        "    plt.subplot(1, 2, 1)\n",
        "    fig = sns.distplot(df1[var].dropna())\n",
        "    fig.set_ylabel('Density')\n",
        "    fig.set_xlabel(var)"
      ],
      "execution_count": 17,
      "outputs": [
        {
          "output_type": "display_data",
          "data": {
            "image/png": "[encoded data removed]",
            "text/plain": [
              "<Figure size 1080x432 with 1 Axes>"
            ]
          },
          "metadata": {
            "needs_background": "light"
          }
        },
        {
          "output_type": "display_data",
          "data": {
            "image/png": "[encoded data removed]",
            "text/plain": [
              "<Figure size 1080x432 with 1 Axes>"
            ]
          },
          "metadata": {
            "needs_background": "light"
          }
        },
        {
          "output_type": "display_data",
          "data": {
            "image/png": "[encoded data removed]",
            "text/plain": [
              "<Figure size 1080x432 with 1 Axes>"
            ]
          },
          "metadata": {
            "needs_background": "light"
          }
        }
      ]
    },
    {
      "cell_type": "markdown",
      "metadata": {
        "id": "xj_0_D15FOJE"
      },
      "source": [
        "Now, For Dependent variable\n",
        "\n",
        "**Dependent:**"
      ]
    },
    {
      "cell_type": "code",
      "metadata": {
        "colab": {
          "base_uri": "https://localhost:8080/",
          "height": 0
        },
        "id": "yaiWaljEFZqg",
        "outputId": "c5bb24a3-74c0-4812-8b6f-bcf56788bf2a"
      },
      "source": [
        "plt.figure(figsize=(15,6))\n",
        "plt.subplot(1, 2, 1)\n",
        "fig = sns.distplot(df1['Close'].dropna())"
      ],
      "execution_count": 18,
      "outputs": [
        {
          "output_type": "display_data",
          "data": {
            "image/png": "[encoded data removed]",
            "text/plain": [
              "<Figure size 1080x432 with 1 Axes>"
            ]
          },
          "metadata": {
            "needs_background": "light"
          }
        }
      ]
    },
    {
      "cell_type": "markdown",
      "metadata": {
        "id": "5d9-45IJFn0j"
      },
      "source": [
        "here, We can see our data is Right Skewed(Positive). So, we need to transform it Normal distribution.\n",
        "\n",
        "Log Transformation is the process we will perform:"
      ]
    },
    {
      "cell_type": "code",
      "metadata": {
        "colab": {
          "base_uri": "https://localhost:8080/",
          "height": 0
        },
        "id": "gQXMwZePGfLP",
        "outputId": "887e3bf3-7586-401a-b111-abdfcd8245ad"
      },
      "source": [
        "for var in ind_var:\n",
        "    plt.figure(figsize=(15,6))\n",
        "    plt.subplot(1, 2, 1)\n",
        "    fig = sns.distplot(np.log10(df1[var]))"
      ],
      "execution_count": 19,
      "outputs": [
        {
          "output_type": "display_data",
          "data": {
            "image/png": "[encoded data removed]",
            "text/plain": [
              "<Figure size 1080x432 with 1 Axes>"
            ]
          },
          "metadata": {
            "needs_background": "light"
          }
        },
        {
          "output_type": "display_data",
          "data": {
            "image/png": "[encoded data removed]",
            "text/plain": [
              "<Figure size 1080x432 with 1 Axes>"
            ]
          },
          "metadata": {
            "needs_background": "light"
          }
        },
        {
          "output_type": "display_data",
          "data": {
            "image/png": "[encoded data removed]",
            "text/plain": [
              "<Figure size 1080x432 with 1 Axes>"
            ]
          },
          "metadata": {
            "needs_background": "light"
          }
        }
      ]
    },
    {
      "cell_type": "code",
      "metadata": {
        "colab": {
          "base_uri": "https://localhost:8080/",
          "height": 0
        },
        "id": "O8Z_QGKWIP-E",
        "outputId": "301d4e62-1464-42e3-ed6e-fff5756c5e0a"
      },
      "source": [
        "plt.figure(figsize=(15,6))\n",
        "plt.subplot(1, 2, 1)\n",
        "fig = sns.distplot(np.log10(df1['Close']))"
      ],
      "execution_count": 20,
      "outputs": [
        {
          "output_type": "display_data",
          "data": {
            "image/png": "[encoded data removed]",
            "text/plain": [
              "<Figure size 1080x432 with 1 Axes>"
            ]
          },
          "metadata": {
            "needs_background": "light"
          }
        }
      ]
    },
    {
      "cell_type": "markdown",
      "metadata": {
        "id": "IIaSodWDIVVh"
      },
      "source": [
        "Now, Our features look Normally distributed to an extent."
      ]
    },
    {
      "cell_type": "markdown",
      "metadata": {
        "id": "XDfIJO_sLI5i"
      },
      "source": [
        "# **Bi-Variate Analysis**"
      ]
    },
    {
      "cell_type": "code",
      "metadata": {
        "colab": {
          "base_uri": "https://localhost:8080/",
          "height": 441
        },
        "id": "VWvinRlvIaza",
        "outputId": "e8faadc8-0ebf-46dc-dc5b-69d37076a048"
      },
      "source": [
        "sns.jointplot(y ='High', x ='Close', data = df1, kind ='hex')\n",
        "plt.show()"
      ],
      "execution_count": 21,
      "outputs": [
        {
          "output_type": "display_data",
          "data": {
            "image/png": "[encoded data removed]",
            "text/plain": [
              "<Figure size 432x432 with 3 Axes>"
            ]
          },
          "metadata": {
            "needs_background": "light"
          }
        }
      ]
    },
    {
      "cell_type": "code",
      "metadata": {
        "colab": {
          "base_uri": "https://localhost:8080/",
          "height": 441
        },
        "id": "H2N2A737QqRX",
        "outputId": "3f855737-a488-4e74-a3fa-942b246913c3"
      },
      "source": [
        "sns.jointplot(y ='Low', x ='Close', data = df1, kind ='hex')\n",
        "plt.show()"
      ],
      "execution_count": 22,
      "outputs": [
        {
          "output_type": "display_data",
          "data": {
            "image/png": "[encoded data removed]",
            "text/plain": [
              "<Figure size 432x432 with 3 Axes>"
            ]
          },
          "metadata": {
            "needs_background": "light"
          }
        }
      ]
    },
    {
      "cell_type": "code",
      "metadata": {
        "colab": {
          "base_uri": "https://localhost:8080/",
          "height": 441
        },
        "id": "2ZYnD3cFQu4W",
        "outputId": "b44796cc-6a89-49c6-cd00-52447714a0ea"
      },
      "source": [
        "sns.jointplot(y ='Open', x ='Close', data = df1, kind ='hex')\n",
        "plt.show()"
      ],
      "execution_count": 23,
      "outputs": [
        {
          "output_type": "display_data",
          "data": {
            "image/png": "[encoded data removed]",
            "text/plain": [
              "<Figure size 432x432 with 3 Axes>"
            ]
          },
          "metadata": {
            "needs_background": "light"
          }
        }
      ]
    },
    {
      "cell_type": "markdown",
      "metadata": {
        "id": "dVtX6VbXQ9to"
      },
      "source": [
        "We can Conclude here from the graph that Independent variables are linearly related to dependent variable(Close)."
      ]
    },
    {
      "cell_type": "markdown",
      "metadata": {
        "id": "tiSsKQDvRrcs"
      },
      "source": [
        "##Pearson’s Correlation:\n",
        "The Pearson correlation coefficient (named for Karl Pearson) can be used to summarize the strength of the linear relationship between two data samples.\n",
        "\n",
        "Here, we need to check the correlation value(Correlation Coeffiecient) between variable."
      ]
    },
    {
      "cell_type": "markdown",
      "metadata": {
        "id": "uc2cR9hsSIUl"
      },
      "source": [
        "The Pearson’s correlation coefficient is calculated as the covariance of the two variables divided by the product of the standard deviation of each data sample. It is the normalization of the covariance between the two variables to give an interpretable score.\n",
        "\n",
        "\n",
        "**Pearson's correlation coefficient = covariance(X, Y) / (stdv(X) * stdv(Y))**\n",
        "\n",
        "The coefficient returns a value between -1 and 1 that represents the limits of correlation from a full negative correlation to a full positive correlation. A value of 0 means no correlation.\n"
      ]
    },
    {
      "cell_type": "code",
      "metadata": {
        "colab": {
          "base_uri": "https://localhost:8080/"
        },
        "id": "a0K7OPTURPdY",
        "outputId": "8ddd5405-17cd-4fe0-d32c-7584feca3629"
      },
      "source": [
        "from scipy.stats import pearsonr\n",
        "import scipy.stats\n",
        "# Convert dataframe into series\n",
        "list1 = df1['Open']\n",
        "list2 = df1['Close']\n",
        "corr, _ = pearsonr(list1, list2)\n",
        "print('Pearsons correlation: %.3f' % corr)"
      ],
      "execution_count": 24,
      "outputs": [
        {
          "output_type": "stream",
          "name": "stdout",
          "text": [
            "Pearsons correlation: 0.978\n"
          ]
        }
      ]
    },
    {
      "cell_type": "code",
      "metadata": {
        "colab": {
          "base_uri": "https://localhost:8080/"
        },
        "id": "JDGD_sB7WI-M",
        "outputId": "62e31701-f89f-461b-de4e-0b4d510bdcff"
      },
      "source": [
        "list3 = df1['High']\n",
        "list2 = df1['Close']\n",
        "corr, _ = pearsonr(list3, list2)\n",
        "print('Pearsons correlation: %.3f' % corr)"
      ],
      "execution_count": 25,
      "outputs": [
        {
          "output_type": "stream",
          "name": "stdout",
          "text": [
            "Pearsons correlation: 0.985\n"
          ]
        }
      ]
    },
    {
      "cell_type": "code",
      "metadata": {
        "colab": {
          "base_uri": "https://localhost:8080/"
        },
        "id": "ANYD0SznWgTr",
        "outputId": "2fbfeb8f-02d7-4232-d3f3-af20ad71e09e"
      },
      "source": [
        "list4 = df1['Low']\n",
        "list2 = df1['Close']\n",
        "corr, _ = pearsonr(list4, list2)\n",
        "print('Pearsons correlation: %.3f' % corr)"
      ],
      "execution_count": 26,
      "outputs": [
        {
          "output_type": "stream",
          "name": "stdout",
          "text": [
            "Pearsons correlation: 0.995\n"
          ]
        }
      ]
    },
    {
      "cell_type": "markdown",
      "metadata": {
        "id": "cjEHJFcmXDaH"
      },
      "source": [
        "We can see that the two variables are positively and Highly correlated and that the correlation is 0.978, 0.985, 0.995. This suggests a high level of correlation, e.g. a value above 0.5 and close to 1.0."
      ]
    },
    {
      "cell_type": "markdown",
      "metadata": {
        "id": "X-xMK9r7Xo5Q"
      },
      "source": [
        "##Correlation Matrix"
      ]
    },
    {
      "cell_type": "code",
      "metadata": {
        "colab": {
          "base_uri": "https://localhost:8080/",
          "height": 0
        },
        "id": "VDyJVr1YXfQY",
        "outputId": "0a51d740-9744-4415-f922-df849a25f6f8"
      },
      "source": [
        "plt.figure(figsize=(10,5))\n",
        "sns.heatmap(df1.corr(), annot = True, cmap='coolwarm')\n",
        "plt.show()"
      ],
      "execution_count": 27,
      "outputs": [
        {
          "output_type": "display_data",
          "data": {
            "image/png": "[encoded data removed]",
            "text/plain": [
              "<Figure size 720x360 with 2 Axes>"
            ]
          },
          "metadata": {
            "needs_background": "light"
          }
        }
      ]
    },
    {
      "cell_type": "markdown",
      "metadata": {
        "id": "bAAZi8QImcXB"
      },
      "source": [
        "# Regression Analysis"
      ]
    },
    {
      "cell_type": "markdown",
      "metadata": {
        "id": "XUPDmS7NwCPE"
      },
      "source": [
        "### Now Importing Libraries for Regression Analysis"
      ]
    },
    {
      "cell_type": "code",
      "metadata": {
        "id": "Q_SisnspwKtr"
      },
      "source": [
        "from sklearn.metrics import *\n",
        "\n",
        "from statsmodels.stats.outliers_influence import variance_inflation_factor\n",
        "\n",
        "from sklearn.model_selection import train_test_split\n",
        "from sklearn.linear_model import LinearRegression \n",
        "from sklearn.linear_model import Lasso\n",
        "from sklearn.linear_model import Ridge\n",
        "from sklearn.model_selection import GridSearchCV\n",
        "from sklearn.preprocessing import MinMaxScaler\n",
        "from sklearn.pipeline import Pipeline"
      ],
      "execution_count": 28,
      "outputs": []
    },
    {
      "cell_type": "markdown",
      "metadata": {
        "id": "AzdP0q5dwuzl"
      },
      "source": [
        "Before We start regression , we must check VIF(Variance Inflation Factor) of our Data Frame.\n",
        "As there seems to be High Multicollinearity in our Data."
      ]
    },
    {
      "cell_type": "code",
      "metadata": {
        "id": "28i6ZcSPaUAc"
      },
      "source": [
        "def calculate_vif(dataset):\n",
        "  vif = pd.DataFrame()\n",
        "  vif[\"features\"] = dataset.columns\n",
        "  vif[\"VIF_Value\"] = [variance_inflation_factor(dataset.values, i) for i in range(dataset.shape[1])]\n",
        "  return (vif)"
      ],
      "execution_count": 29,
      "outputs": []
    },
    {
      "cell_type": "code",
      "metadata": {
        "id": "8IWnHCWxbbx9",
        "colab": {
          "base_uri": "https://localhost:8080/",
          "height": 0
        },
        "outputId": "5c0acac1-711c-4ca3-a3fe-082dbbda591d"
      },
      "source": [
        "calculate_vif(df1[[i for i in df1.describe().columns if i not in ['Date']]])"
      ],
      "execution_count": 30,
      "outputs": [
        {
          "output_type": "execute_result",
          "data": {
            "text/html": [
              "<div>\n",
              "<style scoped>\n",
              "    .dataframe tbody tr th:only-of-type {\n",
              "        vertical-align: middle;\n",
              "    }\n",
              "\n",
              "    .dataframe tbody tr th {\n",
              "        vertical-align: top;\n",
              "    }\n",
              "\n",
              "    .dataframe thead th {\n",
              "        text-align: right;\n",
              "    }\n",
              "</style>\n",
              "<table border=\"1\" class=\"dataframe\">\n",
              "  <thead>\n",
              "    <tr style=\"text-align: right;\">\n",
              "      <th></th>\n",
              "      <th>features</th>\n",
              "      <th>VIF_Value</th>\n",
              "    </tr>\n",
              "  </thead>\n",
              "  <tbody>\n",
              "    <tr>\n",
              "      <th>0</th>\n",
              "      <td>Open</td>\n",
              "      <td>288.504853</td>\n",
              "    </tr>\n",
              "    <tr>\n",
              "      <th>1</th>\n",
              "      <td>High</td>\n",
              "      <td>323.952468</td>\n",
              "    </tr>\n",
              "    <tr>\n",
              "      <th>2</th>\n",
              "      <td>Low</td>\n",
              "      <td>424.612257</td>\n",
              "    </tr>\n",
              "    <tr>\n",
              "      <th>3</th>\n",
              "      <td>Close</td>\n",
              "      <td>428.401649</td>\n",
              "    </tr>\n",
              "  </tbody>\n",
              "</table>\n",
              "</div>"
            ],
            "text/plain": [
              "  features   VIF_Value\n",
              "0     Open  288.504853\n",
              "1     High  323.952468\n",
              "2      Low  424.612257\n",
              "3    Close  428.401649"
            ]
          },
          "metadata": {},
          "execution_count": 30
        }
      ]
    },
    {
      "cell_type": "markdown",
      "metadata": {
        "id": "KNd0fl4QoHHi"
      },
      "source": [
        "### Oops! very high VIF values which suggests high multicollinearity among variables. So, In Order to to reduce VIF, we need to drop variable(s)."
      ]
    },
    {
      "cell_type": "markdown",
      "metadata": {
        "id": "_z6Rppbz0ars"
      },
      "source": [
        "But, We can't remove any variables from our date because each of the variables are important for our model."
      ]
    },
    {
      "cell_type": "code",
      "metadata": {
        "id": "s4ueNM1-0h1M"
      },
      "source": [
        "#train.....\n",
        "x_train, x_test,y_train, y_test = train_test_split(ind_var,dep_var,test_size=.20,random_state=1)"
      ],
      "execution_count": 31,
      "outputs": []
    },
    {
      "cell_type": "code",
      "metadata": {
        "colab": {
          "base_uri": "https://localhost:8080/"
        },
        "id": "rit6ShzPz-5u",
        "outputId": "40930014-5155-4135-ba96-68cdd8b3ddde"
      },
      "source": [
        "print(x_train.shape)\n",
        "print(x_test.shape)"
      ],
      "execution_count": 32,
      "outputs": [
        {
          "output_type": "stream",
          "name": "stdout",
          "text": [
            "(148, 3)\n",
            "(37, 3)\n"
          ]
        }
      ]
    },
    {
      "cell_type": "code",
      "metadata": {
        "id": "88_9ept90EDe"
      },
      "source": [
        "#Data transformation\n",
        "scaler = MinMaxScaler()\n",
        "x_train = scaler.fit_transform(x_train)\n",
        "x_test = scaler.transform(x_test)"
      ],
      "execution_count": 33,
      "outputs": []
    },
    {
      "cell_type": "markdown",
      "metadata": {
        "id": "o77ILWwL0J41"
      },
      "source": [
        "## Linear Regression"
      ]
    },
    {
      "cell_type": "code",
      "metadata": {
        "id": "u6p-asHv0NJl"
      },
      "source": [
        "# Fitting Linear Regression to the Training set\n",
        "reg = LinearRegression().fit(x_train, y_train)"
      ],
      "execution_count": 34,
      "outputs": []
    },
    {
      "cell_type": "code",
      "metadata": {
        "colab": {
          "base_uri": "https://localhost:8080/"
        },
        "id": "qbBb-3bz0X19",
        "outputId": "8e5fdee3-5494-40a7-d7d5-3c866cb67e85"
      },
      "source": [
        "reg.score(x_train, y_train)"
      ],
      "execution_count": 35,
      "outputs": [
        {
          "output_type": "execute_result",
          "data": {
            "text/plain": [
              "0.9943947124704909"
            ]
          },
          "metadata": {},
          "execution_count": 35
        }
      ]
    },
    {
      "cell_type": "code",
      "metadata": {
        "colab": {
          "base_uri": "https://localhost:8080/"
        },
        "id": "KmKvZ1tq0Xzk",
        "outputId": "1861b342-2c8a-4738-c2d8-b3a8445596f9"
      },
      "source": [
        "reg.coef_"
      ],
      "execution_count": 36,
      "outputs": [
        {
          "output_type": "execute_result",
          "data": {
            "text/plain": [
              "array([ 206.39223501,  339.75965241, -178.58396386])"
            ]
          },
          "metadata": {},
          "execution_count": 36
        }
      ]
    },
    {
      "cell_type": "code",
      "metadata": {
        "colab": {
          "base_uri": "https://localhost:8080/"
        },
        "id": "WxmLpH-o0Xwl",
        "outputId": "9c41cbfb-8e20-46fa-d532-5c7435174943"
      },
      "source": [
        "reg.intercept_"
      ],
      "execution_count": 37,
      "outputs": [
        {
          "output_type": "execute_result",
          "data": {
            "text/plain": [
              "7.981643192931017"
            ]
          },
          "metadata": {},
          "execution_count": 37
        }
      ]
    },
    {
      "cell_type": "code",
      "metadata": {
        "colab": {
          "base_uri": "https://localhost:8080/"
        },
        "id": "FjCtySVf0XuB",
        "outputId": "4653baf6-d2ce-413c-e185-20a2f75883e4"
      },
      "source": [
        "#Predict y_test on the basis of train sets\n",
        "y_pred = reg.predict(x_test)\n",
        "print(\"Printed values of Y: \\n\",y_pred)"
      ],
      "execution_count": 38,
      "outputs": [
        {
          "output_type": "stream",
          "name": "stdout",
          "text": [
            "Printed values of Y: \n",
            " [ 26.5264613   30.04697913  52.99506974  14.74919015 147.01000347\n",
            " 339.97588471  47.57404618  26.7156191   25.53891247  51.5485512\n",
            " 167.1168406   52.40492841  15.03278394 317.19036116  74.02532594\n",
            "  48.98214465  28.10792019 134.70037858 106.16190122  90.75305749\n",
            "  28.99576342  15.52145954 108.22518038  58.74416284 165.96721099\n",
            "  19.27101903  15.01972066  51.82026038  30.42231711  62.47316615\n",
            " 261.58897929 338.47373229  65.29568021 232.0096057   95.84913545\n",
            "  54.02351579 242.48451636]\n"
          ]
        }
      ]
    },
    {
      "cell_type": "markdown",
      "metadata": {
        "id": "tETRLjRQ1uoW"
      },
      "source": [
        "### Evaluation:-"
      ]
    },
    {
      "cell_type": "code",
      "metadata": {
        "colab": {
          "base_uri": "https://localhost:8080/"
        },
        "id": "4OqzzCRiL8bM",
        "outputId": "763a6667-bd18-4006-cdf5-57b956fac88e"
      },
      "source": [
        "MSE  = mean_squared_error((y_test), (y_pred))\n",
        "print(\"MSE :\" , MSE)\n",
        "\n",
        "RMSE = np.sqrt(MSE)\n",
        "print(\"RMSE :\" ,RMSE)\n",
        "\n",
        "R2 = r2_score((y_test), (y_pred))\n",
        "print(\"R2 :\" ,R2)\n",
        "Adjusted_R2 = 1-(1-r2_score((y_test), (y_pred)))*((x_test.shape[0]-1)/(x_test.shape[0]-x_test.shape[1]-1))\n",
        "print(\"Adjusted R2 : \",Adjusted_R2)"
      ],
      "execution_count": 39,
      "outputs": [
        {
          "output_type": "stream",
          "name": "stdout",
          "text": [
            "MSE : 19.988578593595022\n",
            "RMSE : 4.470858820584142\n",
            "R2 : 0.9978412541225983\n",
            "Adjusted R2 :  0.9976450044973799\n"
          ]
        }
      ]
    },
    {
      "cell_type": "markdown",
      "metadata": {
        "id": "SV-x_FspM8T8"
      },
      "source": [
        "DATAFRAME TO STORE EVALUATION METRICS\n",
        "\n",
        "To store the evaluation metrics for each regression model into this data frame to compare."
      ]
    },
    {
      "cell_type": "code",
      "metadata": {
        "id": "qL8zWimBM-7k"
      },
      "source": [
        "i=0\n",
        "metric_df=pd.DataFrame()"
      ],
      "execution_count": 40,
      "outputs": []
    },
    {
      "cell_type": "code",
      "metadata": {
        "id": "ArWWT9q5MfQI"
      },
      "source": [
        "#Inserting evalution value in our dataframe\n",
        "metric_df.loc[i,\"Model_Name\"]='Linear regression'\n",
        "metric_df.loc[i,\"MSE\"]= MSE\n",
        "metric_df.loc[i,\"RMSE\"]= RMSE\n",
        "metric_df.loc[i,\"R2\"]= R2\n",
        "metric_df.loc[i,\"Adjusted R2\"]= Adjusted_R2\n",
        "\n",
        "i+=1"
      ],
      "execution_count": 41,
      "outputs": []
    },
    {
      "cell_type": "markdown",
      "metadata": {
        "id": "GP95Da8SNRat"
      },
      "source": [
        "**Visualization**"
      ]
    },
    {
      "cell_type": "code",
      "metadata": {
        "colab": {
          "base_uri": "https://localhost:8080/",
          "height": 0
        },
        "id": "77CnJzdDMfNG",
        "outputId": "cfacb786-b018-4e3e-b0b5-85028f0d1fa7"
      },
      "source": [
        "plt.figure(figsize=(10,5))\n",
        "plt.plot(y_pred)\n",
        "plt.plot(np.array(y_test))\n",
        "plt.legend([\"Predicted\",\"Actual\"])\n",
        "plt.show()"
      ],
      "execution_count": 42,
      "outputs": [
        {
          "output_type": "display_data",
          "data": {
            "image/png": "[encoded data removed]",
            "text/plain": [
              "<Figure size 720x360 with 1 Axes>"
            ]
          },
          "metadata": {
            "needs_background": "light"
          }
        }
      ]
    },
    {
      "cell_type": "markdown",
      "metadata": {
        "id": "LEE9REm3N7E9"
      },
      "source": [
        "## **Ridge Regression**"
      ]
    },
    {
      "cell_type": "code",
      "metadata": {
        "colab": {
          "base_uri": "https://localhost:8080/"
        },
        "id": "Ze-GiTxHMfJ0",
        "outputId": "09d4ca3d-4b80-4b15-b842-b8aaeef160ec"
      },
      "source": [
        "#fitting data\n",
        "ridge  = Ridge(alpha=0.1)\n",
        "ridge.fit(x_train,y_train)"
      ],
      "execution_count": 43,
      "outputs": [
        {
          "output_type": "execute_result",
          "data": {
            "text/plain": [
              "Ridge(alpha=0.1)"
            ]
          },
          "metadata": {},
          "execution_count": 43
        }
      ]
    },
    {
      "cell_type": "code",
      "metadata": {
        "colab": {
          "base_uri": "https://localhost:8080/"
        },
        "id": "-P9KvgyeOJkS",
        "outputId": "f97490d1-16bb-4f85-bd90-c5cef2c6f7c0"
      },
      "source": [
        "ridge.score(x_train, y_train)"
      ],
      "execution_count": 44,
      "outputs": [
        {
          "output_type": "execute_result",
          "data": {
            "text/plain": [
              "0.9920836705746654"
            ]
          },
          "metadata": {},
          "execution_count": 44
        }
      ]
    },
    {
      "cell_type": "markdown",
      "metadata": {
        "id": "uLksPUhMOZUd"
      },
      "source": [
        "**Cross Validation in Ridge**"
      ]
    },
    {
      "cell_type": "code",
      "metadata": {
        "colab": {
          "base_uri": "https://localhost:8080/"
        },
        "id": "yLeLtMf_OJhi",
        "outputId": "605aa125-54da-4eba-e833-96c9228d3d13"
      },
      "source": [
        "ridge = Ridge()\n",
        "parameters = {'alpha': [1e-15,1e-10,1e-8,1e-5,1e-4,1e-3,1e-2,1,5,10,20,30,40,45,50,55,60,100]}\n",
        "ridge_regressor = GridSearchCV(ridge, parameters, scoring='neg_mean_squared_error', cv=3)\n",
        "ridge_regressor.fit(x_train,y_train)"
      ],
      "execution_count": 45,
      "outputs": [
        {
          "output_type": "execute_result",
          "data": {
            "text/plain": [
              "GridSearchCV(cv=3, estimator=Ridge(),\n",
              "             param_grid={'alpha': [1e-15, 1e-10, 1e-08, 1e-05, 0.0001, 0.001,\n",
              "                                   0.01, 1, 5, 10, 20, 30, 40, 45, 50, 55, 60,\n",
              "                                   100]},\n",
              "             scoring='neg_mean_squared_error')"
            ]
          },
          "metadata": {},
          "execution_count": 45
        }
      ]
    },
    {
      "cell_type": "code",
      "metadata": {
        "colab": {
          "base_uri": "https://localhost:8080/"
        },
        "id": "TqF4wzhvOJer",
        "outputId": "02793af1-1ef8-4a22-e25d-5b7450b806bb"
      },
      "source": [
        "print(\"The best fit alpha value is :\" ,ridge_regressor.best_params_)\n",
        "print(\"\\nUsing \",ridge_regressor.best_params_, \" the negative mean squared error is: \", ridge_regressor.best_score_)"
      ],
      "execution_count": 46,
      "outputs": [
        {
          "output_type": "stream",
          "name": "stdout",
          "text": [
            "The best fit alpha value is : {'alpha': 0.001}\n",
            "\n",
            "Using  {'alpha': 0.001}  the negative mean squared error is:  -59.333737891184775\n"
          ]
        }
      ]
    },
    {
      "cell_type": "code",
      "metadata": {
        "id": "5pDreD4oOJcF"
      },
      "source": [
        "y_pred_ridge = ridge_regressor.predict(x_test)"
      ],
      "execution_count": 47,
      "outputs": []
    },
    {
      "cell_type": "markdown",
      "metadata": {
        "id": "XhhO4tVyOyZ4"
      },
      "source": [
        "**Evaluation**"
      ]
    },
    {
      "cell_type": "code",
      "metadata": {
        "colab": {
          "base_uri": "https://localhost:8080/"
        },
        "id": "bqlnF1h6O1FF",
        "outputId": "d83ae0a2-8432-4dc2-e21c-716501c60c92"
      },
      "source": [
        "MSE  = mean_squared_error((y_test), (y_pred_ridge))\n",
        "print(\"MSE :\" , MSE)\n",
        "\n",
        "RMSE = np.sqrt(MSE)\n",
        "print(\"RMSE :\" ,RMSE)\n",
        "\n",
        "R2 = r2_score((y_test), (y_pred_ridge))\n",
        "print(\"R2 :\" ,R2)\n",
        "\n",
        "Adjusted_R2 =1-(1-r2_score((y_test), (y_pred_ridge)))*((x_test.shape[0]-1)/(x_test.shape[0]-x_test.shape[1]-1))\n",
        "print(\"Adjusted R2 : \",Adjusted_R2)"
      ],
      "execution_count": 48,
      "outputs": [
        {
          "output_type": "stream",
          "name": "stdout",
          "text": [
            "MSE : 20.095425485603688\n",
            "RMSE : 4.48279215284444\n",
            "R2 : 0.9978297147684337\n",
            "Adjusted R2 :  0.9976324161110186\n"
          ]
        }
      ]
    },
    {
      "cell_type": "code",
      "metadata": {
        "id": "JsqHTzkZO7vg"
      },
      "source": [
        "#Inserting evalution value in dataframe\n",
        "metric_df.loc[i,\"Model_Name\"]='Ridge regression'\n",
        "metric_df.loc[i,\"MSE\"]= MSE\n",
        "metric_df.loc[i,\"RMSE\"]= RMSE\n",
        "metric_df.loc[i,\"R2\"]= R2\n",
        "metric_df.loc[i,\"Adjusted R2\"]= Adjusted_R2\n",
        "\n",
        "i=i+1"
      ],
      "execution_count": 49,
      "outputs": []
    },
    {
      "cell_type": "markdown",
      "metadata": {
        "id": "E459GcKpPLSN"
      },
      "source": [
        "**Predicted Graph of Ridge Regression**"
      ]
    },
    {
      "cell_type": "code",
      "metadata": {
        "colab": {
          "base_uri": "https://localhost:8080/",
          "height": 320
        },
        "id": "eJGzQqNBO7s9",
        "outputId": "c8b8cdd5-7e31-45e2-fe49-f0d45f1ed613"
      },
      "source": [
        "plt.figure(figsize=(10,5))\n",
        "plt.plot(y_pred)\n",
        "plt.plot(np.array(y_test))\n",
        "plt.legend([\"Predicted\",\"Actual\"])\n",
        "plt.show()"
      ],
      "execution_count": 50,
      "outputs": [
        {
          "output_type": "display_data",
          "data": {
            "image/png": "[encoded data removed]",
            "text/plain": [
              "<Figure size 720x360 with 1 Axes>"
            ]
          },
          "metadata": {
            "needs_background": "light"
          }
        }
      ]
    },
    {
      "cell_type": "markdown",
      "metadata": {
        "id": "y2LHSaJ5Pcxl"
      },
      "source": [
        "## **Lasso Regression**"
      ]
    },
    {
      "cell_type": "code",
      "metadata": {
        "colab": {
          "base_uri": "https://localhost:8080/"
        },
        "id": "_EdyBE-yO7ps",
        "outputId": "f2b44b26-a570-42eb-daba-e085498c1b23"
      },
      "source": [
        "lasso  = Lasso(alpha=0.0001 , max_iter= 3000)\n",
        "lasso.fit(x_train, y_train)"
      ],
      "execution_count": 51,
      "outputs": [
        {
          "output_type": "execute_result",
          "data": {
            "text/plain": [
              "Lasso(alpha=0.0001, max_iter=3000)"
            ]
          },
          "metadata": {},
          "execution_count": 51
        }
      ]
    },
    {
      "cell_type": "code",
      "metadata": {
        "colab": {
          "base_uri": "https://localhost:8080/"
        },
        "id": "qULQLBqKO7m1",
        "outputId": "23907938-4f6b-4525-d64d-5e3e528cfa4d"
      },
      "source": [
        "lasso.score(x_train, y_train)"
      ],
      "execution_count": 52,
      "outputs": [
        {
          "output_type": "execute_result",
          "data": {
            "text/plain": [
              "0.9943947120445368"
            ]
          },
          "metadata": {},
          "execution_count": 52
        }
      ]
    },
    {
      "cell_type": "markdown",
      "metadata": {
        "id": "b526sOijP23-"
      },
      "source": [
        "**Cross Validation**"
      ]
    },
    {
      "cell_type": "code",
      "metadata": {
        "colab": {
          "base_uri": "https://localhost:8080/"
        },
        "id": "a5UQNeIMP64v",
        "outputId": "61057870-39d0-43bc-bfbe-62f05e49d067"
      },
      "source": [
        "lasso = Lasso()\n",
        "parameters = {'alpha': [1e-15,1e-13,1e-10,1e-8,1e-5,1e-4,1e-3,1e-2,1e-1,1,5,10,20,30,40,45,50,55,60,100,0.0014]}\n",
        "lasso_regressor = GridSearchCV(lasso, parameters, scoring='neg_mean_squared_error', cv=5)\n",
        "lasso_regressor.fit(x_train, y_train)"
      ],
      "execution_count": 53,
      "outputs": [
        {
          "output_type": "execute_result",
          "data": {
            "text/plain": [
              "GridSearchCV(cv=5, estimator=Lasso(),\n",
              "             param_grid={'alpha': [1e-15, 1e-13, 1e-10, 1e-08, 1e-05, 0.0001,\n",
              "                                   0.001, 0.01, 0.1, 1, 5, 10, 20, 30, 40, 45,\n",
              "                                   50, 55, 60, 100, 0.0014]},\n",
              "             scoring='neg_mean_squared_error')"
            ]
          },
          "metadata": {},
          "execution_count": 53
        }
      ]
    },
    {
      "cell_type": "code",
      "metadata": {
        "colab": {
          "base_uri": "https://localhost:8080/"
        },
        "id": "1TunjVMWP61O",
        "outputId": "42b698f7-cd6e-447f-8fd0-a8318bbaebed"
      },
      "source": [
        "print(\"The best fit alpha value is found out to be :\" ,lasso_regressor.best_params_)\n",
        "print(\"\\nUsing \",lasso_regressor.best_params_, \" the negative mean squared error is: \", lasso_regressor.best_score_)"
      ],
      "execution_count": 54,
      "outputs": [
        {
          "output_type": "stream",
          "name": "stdout",
          "text": [
            "The best fit alpha value is found out to be : {'alpha': 0.01}\n",
            "\n",
            "Using  {'alpha': 0.01}  the negative mean squared error is:  -62.90049172560616\n"
          ]
        }
      ]
    },
    {
      "cell_type": "code",
      "metadata": {
        "id": "si64S7mbP6ev"
      },
      "source": [
        "y_pred_lasso = lasso_regressor.predict(x_test)"
      ],
      "execution_count": 55,
      "outputs": []
    },
    {
      "cell_type": "markdown",
      "metadata": {
        "id": "WLmCUOXYPpkW"
      },
      "source": [
        "**Evaluation**"
      ]
    },
    {
      "cell_type": "code",
      "metadata": {
        "colab": {
          "base_uri": "https://localhost:8080/"
        },
        "id": "ytXfwTQqPsQe",
        "outputId": "6b8ca81e-b18a-47b8-90a1-26d51530dff5"
      },
      "source": [
        "MSE  = mean_squared_error((y_test), (y_pred_lasso))\n",
        "print(\"MSE :\" , MSE)\n",
        "\n",
        "RMSE = np.sqrt(MSE)\n",
        "print(\"RMSE :\" ,RMSE)\n",
        "\n",
        "R2 = r2_score((y_test), (y_pred_lasso))\n",
        "print(\"R2 :\" ,R2)\n",
        "\n",
        "Adjusted_R2 =1-(1-r2_score((y_test), (y_pred_lasso)))*((x_test.shape[0]-1)/(x_test.shape[0]-x_test.shape[1]-1))\n",
        "print(\"Adjusted R2 : \",Adjusted_R2)"
      ],
      "execution_count": 56,
      "outputs": [
        {
          "output_type": "stream",
          "name": "stdout",
          "text": [
            "MSE : 20.878651216190214\n",
            "RMSE : 4.569316274475889\n",
            "R2 : 0.9977451271971334\n",
            "Adjusted R2 :  0.9975401387605092\n"
          ]
        }
      ]
    },
    {
      "cell_type": "code",
      "metadata": {
        "id": "kW7a5BcqPsWW"
      },
      "source": [
        "#Inserting evalution value in dataframe\n",
        "metric_df.loc[i,\"Model_Name\"]='Lasso regression'\n",
        "metric_df.loc[i,\"MSE\"]= MSE\n",
        "metric_df.loc[i,\"RMSE\"]= RMSE\n",
        "metric_df.loc[i,\"R2\"]= R2\n",
        "metric_df.loc[i,\"Adjusted R2\"]= Adjusted_R2\n",
        "\n",
        "i=i+1"
      ],
      "execution_count": 57,
      "outputs": []
    },
    {
      "cell_type": "markdown",
      "metadata": {
        "id": "eyopYI1EQLWv"
      },
      "source": [
        "**Visualization**"
      ]
    },
    {
      "cell_type": "code",
      "metadata": {
        "colab": {
          "base_uri": "https://localhost:8080/",
          "height": 0
        },
        "id": "zQ2oCvY3PsTt",
        "outputId": "59dfda9c-2ac8-433f-c678-2220ead24112"
      },
      "source": [
        "plt.figure(figsize=(10,5))\n",
        "plt.plot(y_pred)\n",
        "plt.plot(np.array(y_test))\n",
        "plt.legend([\"Predicted\",\"Actual\"])\n",
        "plt.show()"
      ],
      "execution_count": 58,
      "outputs": [
        {
          "output_type": "display_data",
          "data": {
            "image/png": "[encoded data removed]",
            "text/plain": [
              "<Figure size 720x360 with 1 Axes>"
            ]
          },
          "metadata": {
            "needs_background": "light"
          }
        }
      ]
    },
    {
      "cell_type": "markdown",
      "metadata": {
        "id": "m1S3o6utQhKk"
      },
      "source": [
        "## **ElasticNet Regression**"
      ]
    },
    {
      "cell_type": "code",
      "metadata": {
        "id": "gu9NeMcSQffF"
      },
      "source": [
        "from sklearn.linear_model import ElasticNet\n",
        "elasticnet = ElasticNet(alpha=0.1, l1_ratio=0.5)"
      ],
      "execution_count": 59,
      "outputs": []
    },
    {
      "cell_type": "code",
      "metadata": {
        "colab": {
          "base_uri": "https://localhost:8080/"
        },
        "id": "l8Qr8K6cQfbn",
        "outputId": "bd54083b-8a06-4dc2-c1f4-71b9ac2db758"
      },
      "source": [
        "elasticnet.fit(x_train,y_train)"
      ],
      "execution_count": 60,
      "outputs": [
        {
          "output_type": "execute_result",
          "data": {
            "text/plain": [
              "ElasticNet(alpha=0.1)"
            ]
          },
          "metadata": {},
          "execution_count": 60
        }
      ]
    },
    {
      "cell_type": "code",
      "metadata": {
        "colab": {
          "base_uri": "https://localhost:8080/"
        },
        "id": "mu0cLiGKQfYl",
        "outputId": "8b717a8a-8943-48dd-df32-40e5555ae552"
      },
      "source": [
        "elasticnet.score(x_train, y_train)"
      ],
      "execution_count": 61,
      "outputs": [
        {
          "output_type": "execute_result",
          "data": {
            "text/plain": [
              "0.9446831516694608"
            ]
          },
          "metadata": {},
          "execution_count": 61
        }
      ]
    },
    {
      "cell_type": "markdown",
      "metadata": {
        "id": "U_q6T2jDRIdf"
      },
      "source": [
        "**Cross validation**"
      ]
    },
    {
      "cell_type": "code",
      "metadata": {
        "colab": {
          "base_uri": "https://localhost:8080/"
        },
        "id": "l-LpJSflRMKt",
        "outputId": "89ef7651-d078-4dee-b215-85fa12a1efd4"
      },
      "source": [
        "elastic = ElasticNet()\n",
        "parameters = {'alpha': [1e-15,1e-13,1e-10,1e-8,1e-5,1e-4,1e-3,1e-2,1e-1,1,5,10,20,30,40,45,50,55,60,100],'l1_ratio':[0.3,0.4,0.5,0.6,0.7,0.8]}\n",
        "elastic_regressor = GridSearchCV(elastic, parameters, scoring='neg_mean_squared_error',cv=5)\n",
        "elastic_regressor.fit(x_train, y_train)"
      ],
      "execution_count": 62,
      "outputs": [
        {
          "output_type": "execute_result",
          "data": {
            "text/plain": [
              "GridSearchCV(cv=5, estimator=ElasticNet(),\n",
              "             param_grid={'alpha': [1e-15, 1e-13, 1e-10, 1e-08, 1e-05, 0.0001,\n",
              "                                   0.001, 0.01, 0.1, 1, 5, 10, 20, 30, 40, 45,\n",
              "                                   50, 55, 60, 100],\n",
              "                         'l1_ratio': [0.3, 0.4, 0.5, 0.6, 0.7, 0.8]},\n",
              "             scoring='neg_mean_squared_error')"
            ]
          },
          "metadata": {},
          "execution_count": 62
        }
      ]
    },
    {
      "cell_type": "code",
      "metadata": {
        "colab": {
          "base_uri": "https://localhost:8080/"
        },
        "id": "CAN68K3uRMkz",
        "outputId": "f33ce176-ac1b-4c6d-f6e1-c1a85db6d6f5"
      },
      "source": [
        "print(\"The best fit alpha value is :\" ,elastic_regressor.best_params_)\n",
        "print(\"\\nUsing \",elastic_regressor.best_params_, \" the negative mean squared error is: \", elastic_regressor.best_score_)"
      ],
      "execution_count": 63,
      "outputs": [
        {
          "output_type": "stream",
          "name": "stdout",
          "text": [
            "The best fit alpha value is : {'alpha': 0.0001, 'l1_ratio': 0.3}\n",
            "\n",
            "Using  {'alpha': 0.0001, 'l1_ratio': 0.3}  the negative mean squared error is:  -62.32590181197605\n"
          ]
        }
      ]
    },
    {
      "cell_type": "code",
      "metadata": {
        "id": "nQ2tnQpKRMhk"
      },
      "source": [
        "#Prediction\n",
        "y_pred_elas = elastic_regressor.predict(x_test)"
      ],
      "execution_count": 64,
      "outputs": []
    },
    {
      "cell_type": "code",
      "metadata": {
        "colab": {
          "base_uri": "https://localhost:8080/"
        },
        "id": "H8N-guEKRMVi",
        "outputId": "cb511a66-13b0-4949-d7da-ea437291fe29"
      },
      "source": [
        "MSE  = mean_squared_error((y_test), (y_pred_elas))\n",
        "print(\"MSE :\" , MSE)\n",
        "\n",
        "RMSE = np.sqrt(MSE)\n",
        "print(\"RMSE :\" ,RMSE)\n",
        "\n",
        "R2 = r2_score((y_test), (y_pred_elas))\n",
        "print(\"R2 :\" ,R2)\n",
        "\n",
        "Adjusted_R2 =1-(1-r2_score((y_test), (y_pred_elas)))*((x_test.shape[0]-1)/(x_test.shape[0]-x_test.shape[1]-1))\n",
        "print(\"Adjusted R2 : \",Adjusted_R2)"
      ],
      "execution_count": 65,
      "outputs": [
        {
          "output_type": "stream",
          "name": "stdout",
          "text": [
            "MSE : 21.250552258088767\n",
            "RMSE : 4.6098321290572795\n",
            "R2 : 0.9977049622680845\n",
            "Adjusted R2 :  0.997496322474274\n"
          ]
        }
      ]
    },
    {
      "cell_type": "code",
      "metadata": {
        "id": "YRRAZ8xSRMQg"
      },
      "source": [
        "#Inserting evalution value in dataframe\n",
        "metric_df.loc[i,\"Model_Name\"]='Elasticnet regression'\n",
        "metric_df.loc[i,\"MSE\"]= MSE\n",
        "metric_df.loc[i,\"RMSE\"]= RMSE\n",
        "metric_df.loc[i,\"R2\"]= R2\n",
        "metric_df.loc[i,\"Adjusted R2\"]= Adjusted_R2\n",
        "\n",
        "i=i+1"
      ],
      "execution_count": 66,
      "outputs": []
    },
    {
      "cell_type": "markdown",
      "metadata": {
        "id": "jNHyJI9sRtNd"
      },
      "source": [
        "**Visualization**"
      ]
    },
    {
      "cell_type": "code",
      "metadata": {
        "colab": {
          "base_uri": "https://localhost:8080/",
          "height": 0
        },
        "id": "9JSQZzHlRMN6",
        "outputId": "4944f5f4-731b-4842-d30e-5a0b430c0dda"
      },
      "source": [
        "plt.figure(figsize=(7,5))\n",
        "plt.plot((y_pred_elas))\n",
        "plt.plot((np.array(y_test)))\n",
        "plt.legend([\"Predicted\",\"Actual\"])\n",
        "plt.show()"
      ],
      "execution_count": 67,
      "outputs": [
        {
          "output_type": "display_data",
          "data": {
            "image/png": "[encoded data removed]",
            "text/plain": [
              "<Figure size 504x360 with 1 Axes>"
            ]
          },
          "metadata": {
            "needs_background": "light"
          }
        }
      ]
    },
    {
      "cell_type": "markdown",
      "metadata": {
        "id": "bwf0jO5HVKnV"
      },
      "source": [
        "## **Final Matrix:**\n",
        "\n",
        "**Metrics Comparison**"
      ]
    },
    {
      "cell_type": "code",
      "metadata": {
        "colab": {
          "base_uri": "https://localhost:8080/",
          "height": 175
        },
        "id": "U3h_adOgSS1M",
        "outputId": "23a85c28-6eb0-4392-cf12-be5a7eba6a82"
      },
      "source": [
        "#Comparison between algorithms \n",
        "accuracy_list = ['MSE','RMSE',\"R2\",\"Adjusted_R2\"]\n",
        "reg_models = [reg,ridge,lasso,elasticnet]\n",
        "\n",
        "def error_matrix(Y):\n",
        "  MSE = mean_squared_error(y_test,Y)\n",
        "  RMSE = np.sqrt(MSE)\n",
        "  r_2 = r2_score(y_test,Y)\n",
        "  adj_r2 = 1-(1-r2_score(y_test,Y))*(x_test.shape[0]-1)/((x_test.shape[0]-x_test.shape[1]-1))\n",
        "\n",
        "  return MSE,RMSE,r_2,adj_r2\n",
        "\n",
        "\n",
        "accuracy_df = pd.DataFrame(index = accuracy_list)\n",
        "accuracy_df['Linear Regression'] = error_matrix(y_pred)\n",
        "accuracy_df['Ridge'] = error_matrix(y_pred_ridge)\n",
        "accuracy_df['Lasso'] = error_matrix(y_pred_lasso)\n",
        "accuracy_df['ElasticNet'] = error_matrix(y_pred_elas)\n",
        "accuracy_df"
      ],
      "execution_count": 68,
      "outputs": [
        {
          "output_type": "execute_result",
          "data": {
            "text/html": [
              "<div>\n",
              "<style scoped>\n",
              "    .dataframe tbody tr th:only-of-type {\n",
              "        vertical-align: middle;\n",
              "    }\n",
              "\n",
              "    .dataframe tbody tr th {\n",
              "        vertical-align: top;\n",
              "    }\n",
              "\n",
              "    .dataframe thead th {\n",
              "        text-align: right;\n",
              "    }\n",
              "</style>\n",
              "<table border=\"1\" class=\"dataframe\">\n",
              "  <thead>\n",
              "    <tr style=\"text-align: right;\">\n",
              "      <th></th>\n",
              "      <th>Linear Regression</th>\n",
              "      <th>Ridge</th>\n",
              "      <th>Lasso</th>\n",
              "      <th>ElasticNet</th>\n",
              "    </tr>\n",
              "  </thead>\n",
              "  <tbody>\n",
              "    <tr>\n",
              "      <th>MSE</th>\n",
              "      <td>19.988579</td>\n",
              "      <td>20.095425</td>\n",
              "      <td>20.878651</td>\n",
              "      <td>21.250552</td>\n",
              "    </tr>\n",
              "    <tr>\n",
              "      <th>RMSE</th>\n",
              "      <td>4.470859</td>\n",
              "      <td>4.482792</td>\n",
              "      <td>4.569316</td>\n",
              "      <td>4.609832</td>\n",
              "    </tr>\n",
              "    <tr>\n",
              "      <th>R2</th>\n",
              "      <td>0.997841</td>\n",
              "      <td>0.997830</td>\n",
              "      <td>0.997745</td>\n",
              "      <td>0.997705</td>\n",
              "    </tr>\n",
              "    <tr>\n",
              "      <th>Adjusted_R2</th>\n",
              "      <td>0.997645</td>\n",
              "      <td>0.997632</td>\n",
              "      <td>0.997540</td>\n",
              "      <td>0.997496</td>\n",
              "    </tr>\n",
              "  </tbody>\n",
              "</table>\n",
              "</div>"
            ],
            "text/plain": [
              "             Linear Regression      Ridge      Lasso  ElasticNet\n",
              "MSE                  19.988579  20.095425  20.878651   21.250552\n",
              "RMSE                  4.470859   4.482792   4.569316    4.609832\n",
              "R2                    0.997841   0.997830   0.997745    0.997705\n",
              "Adjusted_R2           0.997645   0.997632   0.997540    0.997496"
            ]
          },
          "metadata": {},
          "execution_count": 68
        }
      ]
    },
    {
      "cell_type": "markdown",
      "metadata": {
        "id": "ru2dmiXhVuid"
      },
      "source": [
        "# Conclusion"
      ]
    },
    {
      "cell_type": "markdown",
      "metadata": {
        "id": "FwVp1Za7QGzB"
      },
      "source": [
        "1) Target Variable is strongly dependent on Independent Variables.\n",
        "\n",
        "2) R2 is very high for every Regression which tells us that How our Independent variable describe dependent variable in dataset.\n",
        "\n",
        "3) Predicted Model has shown similarity with actual Model .\n",
        "\n"
      ]
    },
    {
      "cell_type": "markdown",
      "metadata": {
        "id": "fE0QiuQhQ2aN"
      },
      "source": [
        "## Thanks!"
      ]
    }
  ]
}